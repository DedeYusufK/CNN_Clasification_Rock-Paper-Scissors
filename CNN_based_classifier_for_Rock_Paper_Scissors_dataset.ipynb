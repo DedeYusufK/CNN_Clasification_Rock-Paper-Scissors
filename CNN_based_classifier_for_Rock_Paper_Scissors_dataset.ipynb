{
  "nbformat": 4,
  "nbformat_minor": 0,
  "metadata": {
    "colab": {
      "provenance": [],
      "collapsed_sections": [
        "fTxA3qUPuC-6",
        "vTpiMTSCuIVq",
        "C8jHo6H0uKjt"
      ],
      "include_colab_link": true
    },
    "kernelspec": {
      "name": "python3",
      "display_name": "Python 3"
    },
    "language_info": {
      "name": "python"
    }
  },
  "cells": [
    {
      "cell_type": "markdown",
      "metadata": {
        "id": "view-in-github",
        "colab_type": "text"
      },
      "source": [
        "<a href=\"https://colab.research.google.com/github/DedeYusufK/CNN_Clasification_Rock-Paper-Scissors/blob/main/CNN_based_classifier_for_Rock_Paper_Scissors_dataset.ipynb\" target=\"_parent\"><img src=\"https://colab.research.google.com/assets/colab-badge.svg\" alt=\"Open In Colab\"/></a>"
      ]
    },
    {
      "cell_type": "markdown",
      "source": [
        "# Problem B3"
      ],
      "metadata": {
        "id": "vTpiMTSCuIVq"
      }
    },
    {
      "cell_type": "code",
      "source": [
        "# ========================================================================================\n",
        "#\n",
        "# Build a CNN based classifier for Rock-Paper-Scissors dataset.\n",
        "# Your input layer should accept 150x150 with 3 bytes color as the input shape.\n",
        "# This is unlabeled data, use ImageDataGenerator to automatically label it.\n",
        "# Don't use lambda layers in your model.\n",
        "#\n",
        "# The dataset used in this problem is created by Laurence Moroney (laurencemoroney.com).\n",
        "#\n",
        "# Desired accuracy AND validation_accuracy > 83%\n",
        "# ========================================================================================\n",
        "\n",
        "import urllib.request\n",
        "import zipfile\n",
        "import tensorflow as tf\n",
        "import os\n",
        "from keras_preprocessing.image import ImageDataGenerator"
      ],
      "metadata": {
        "id": "K3lPViEfUY_Z"
      },
      "execution_count": null,
      "outputs": []
    },
    {
      "cell_type": "code",
      "source": [
        "class myCallback(tf.keras.callbacks.Callback):\n",
        "        # Define the correct function signature for on_epoch_end\n",
        "        def on_epoch_end(self, epoch, logs={}):\n",
        "            if logs.get('accuracy') > 0.84 and logs.get('val_accuracy') > 0.84:\n",
        "                print(\"\\nReached desired calbacks!\")\n",
        "\n",
        "                # Stop training once the above condition is met\n",
        "                self.model.stop_training = True\n",
        "\n",
        "callbacks = myCallback()"
      ],
      "metadata": {
        "id": "XzfOw2mgLiFp"
      },
      "execution_count": null,
      "outputs": []
    },
    {
      "cell_type": "code",
      "source": [
        "import os\n",
        "len(os.listdir('data/rps/scissors'))"
      ],
      "metadata": {
        "colab": {
          "base_uri": "https://localhost:8080/"
        },
        "id": "puOCG0oy9ZRe",
        "outputId": "7ff2edbc-6096-4f48-de0b-1f8d956fa9e2"
      },
      "execution_count": null,
      "outputs": [
        {
          "output_type": "execute_result",
          "data": {
            "text/plain": [
              "840"
            ]
          },
          "metadata": {},
          "execution_count": 47
        }
      ]
    },
    {
      "cell_type": "code",
      "source": [
        "def solution_B3():\n",
        "    data_url = 'https://github.com/dicodingacademy/assets/releases/download/release-rps/rps.zip'\n",
        "    urllib.request.urlretrieve(data_url, 'rps.zip')\n",
        "    local_file = 'rps.zip'\n",
        "    zip_ref = zipfile.ZipFile(local_file, 'r')\n",
        "    zip_ref.extractall('data/')\n",
        "    zip_ref.close()\n",
        "\n",
        "    # YOUR CODE HERE\n",
        "    TRAINING_DIR = \"data/rps/\"\n",
        "    training_datagen = ImageDataGenerator(rescale = 1./255,\n",
        "                                          rotation_range=40,\n",
        "                                          width_shift_range=0.2,\n",
        "                                          height_shift_range=0.2,\n",
        "                                          shear_range=0.2,\n",
        "                                          zoom_range=0.2,\n",
        "                                          horizontal_flip=True,\n",
        "                                          fill_mode='nearest',\n",
        "                                          validation_split=0.2)\n",
        "\n",
        "    train_generator = training_datagen.flow_from_directory(\n",
        "                                          TRAINING_DIR,\n",
        "                                          target_size=(150,150),\n",
        "                                          class_mode='categorical',\n",
        "                                          batch_size=36\n",
        "                                          )\n",
        "\n",
        "    validation_generator = training_datagen.flow_from_directory(\n",
        "                                          TRAINING_DIR,\n",
        "                                          target_size=(150,150),\n",
        "                                          class_mode='categorical',\n",
        "                                          batch_size=36\n",
        "                                          )\n",
        "\n",
        "    # YOUR IMAGE SIZE SHOULD BE 150x150\n",
        "    # Make sure you used \"categorical\"\n",
        "\n",
        "    model=tf.keras.models.Sequential([\n",
        "    # YOUR CODE HERE, end with 3 Neuron Dense, activated by softmax\n",
        "        # Note the input shape is the desired size of the image 150x150 with 3 bytes color\n",
        "        # This is the first convolution\n",
        "        tf.keras.layers.Conv2D(16, (3,3), activation='relu', input_shape=(150, 150, 3)),\n",
        "        tf.keras.layers.MaxPooling2D(2, 2),\n",
        "        # The second convolution\n",
        "        # tf.keras.layers.Conv2D(64, (3,3), activation='relu'),\n",
        "        # tf.keras.layers.MaxPooling2D(2,2),\n",
        "        # The third convolution\n",
        "        tf.keras.layers.Conv2D(32, (3,3), activation='relu'),\n",
        "        tf.keras.layers.MaxPooling2D(2,2),\n",
        "        # The fourth convolution\n",
        "        tf.keras.layers.Conv2D(64, (3,3), activation='relu'),\n",
        "        tf.keras.layers.MaxPooling2D(2,2),\n",
        "        # Flatten the results to feed into a DNN\n",
        "        tf.keras.layers.Flatten(),\n",
        "        tf.keras.layers.Dropout(0.5),\n",
        "        # 512 neuron hidden layer\n",
        "        tf.keras.layers.Dense(128, activation='relu'),\n",
        "        tf.keras.layers.Dense(3, activation='softmax')\n",
        "    ])\n",
        "\n",
        "    model.compile(loss = 'categorical_crossentropy', optimizer='rmsprop', metrics=['accuracy'])\n",
        "\n",
        "    model.fit(train_generator,\n",
        "              epochs=25,\n",
        "              steps_per_epoch=2520 * 0.8 // 36,\n",
        "              validation_data = validation_generator,\n",
        "              verbose = 1,\n",
        "              validation_steps=2520 * 0.2 // 36,\n",
        "              callbacks=[callbacks])\n",
        "\n",
        "    return model\n"
      ],
      "metadata": {
        "id": "2efX1nlnuRoG"
      },
      "execution_count": null,
      "outputs": []
    },
    {
      "cell_type": "code",
      "source": [
        "2520 * 0.2 // 36"
      ],
      "metadata": {
        "id": "wPZGHGun73B2",
        "outputId": "6011d164-91e2-435c-f68e-432a9efb2b7c",
        "colab": {
          "base_uri": "https://localhost:8080/"
        }
      },
      "execution_count": null,
      "outputs": [
        {
          "output_type": "execute_result",
          "data": {
            "text/plain": [
              "14.0"
            ]
          },
          "metadata": {},
          "execution_count": 2
        }
      ]
    },
    {
      "cell_type": "code",
      "source": [
        "# The code below is to save your model as a .h5 file.\n",
        "# It will be saved automatically in your Submission folder.\n",
        "if __name__ == '__main__':\n",
        "    # DO NOT CHANGE THIS CODE\n",
        "    model=solution_B3()\n",
        "    model.save(\"model_B3.h5\")"
      ],
      "metadata": {
        "id": "zsXd382aUcEm",
        "colab": {
          "base_uri": "https://localhost:8080/"
        },
        "outputId": "ad11bbbc-6c3e-4286-f4b9-0950f2ebd061"
      },
      "execution_count": null,
      "outputs": [
        {
          "output_type": "stream",
          "name": "stdout",
          "text": [
            "Found 2520 images belonging to 3 classes.\n",
            "Found 2520 images belonging to 3 classes.\n",
            "Epoch 1/25\n",
            "56/56 [==============================] - 55s 958ms/step - loss: 1.1047 - accuracy: 0.4340 - val_loss: 1.1349 - val_accuracy: 0.4087\n",
            "Epoch 2/25\n",
            "56/56 [==============================] - 54s 954ms/step - loss: 0.8265 - accuracy: 0.6136 - val_loss: 0.6969 - val_accuracy: 0.6944\n",
            "Epoch 3/25\n",
            "56/56 [==============================] - 55s 972ms/step - loss: 0.6552 - accuracy: 0.7257 - val_loss: 0.5925 - val_accuracy: 0.7758\n",
            "Epoch 4/25\n",
            "56/56 [==============================] - 53s 950ms/step - loss: 0.5257 - accuracy: 0.7783 - val_loss: 0.3687 - val_accuracy: 0.8571\n",
            "Epoch 5/25\n",
            "56/56 [==============================] - 54s 953ms/step - loss: 0.4554 - accuracy: 0.8095 - val_loss: 0.6788 - val_accuracy: 0.6905\n",
            "Epoch 6/25\n",
            "56/56 [==============================] - 53s 949ms/step - loss: 0.4145 - accuracy: 0.8388 - val_loss: 0.3210 - val_accuracy: 0.9008\n",
            "Epoch 7/25\n",
            "56/56 [==============================] - ETA: 0s - loss: 0.3206 - accuracy: 0.8690\n",
            "Reached desired calbacks!\n",
            "56/56 [==============================] - 54s 952ms/step - loss: 0.3206 - accuracy: 0.8690 - val_loss: 0.1958 - val_accuracy: 0.9385\n"
          ]
        }
      ]
    }
  ]
}